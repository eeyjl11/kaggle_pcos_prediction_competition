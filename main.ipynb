{
 "cells": [
  {
   "cell_type": "code",
   "execution_count": 2,
   "metadata": {},
   "outputs": [
    {
     "name": "stdout",
     "output_type": "stream",
     "text": [
      "<class 'pandas.core.frame.DataFrame'>\n",
      "RangeIndex: 210 entries, 0 to 209\n",
      "Data columns (total 14 columns):\n",
      " #   Column                 Non-Null Count  Dtype  \n",
      "---  ------                 --------------  -----  \n",
      " 0   ID                     210 non-null    int64  \n",
      " 1   Age                    209 non-null    object \n",
      " 2   Weight_kg              208 non-null    float64\n",
      " 3   PCOS                   210 non-null    object \n",
      " 4   Hormonal_Imbalance     208 non-null    object \n",
      " 5   Hyperandrogenism       207 non-null    object \n",
      " 6   Hirsutism              205 non-null    object \n",
      " 7   Conception_Difficulty  209 non-null    object \n",
      " 8   Insulin_Resistance     209 non-null    object \n",
      " 9   Exercise_Frequency     208 non-null    object \n",
      " 10  Exercise_Type          208 non-null    object \n",
      " 11  Exercise_Duration      208 non-null    object \n",
      " 12  Sleep_Hours            208 non-null    object \n",
      " 13  Exercise_Benefit       209 non-null    object \n",
      "dtypes: float64(1), int64(1), object(12)\n",
      "memory usage: 23.1+ KB\n"
     ]
    }
   ],
   "source": [
    "import pandas as pd\n",
    "\n",
    "trainFilepath = \"Data/train.csv\"\n",
    "trainData = pd.read_csv(trainFilepath)\n",
    "\n",
    "trainData.info()"
   ]
  },
  {
   "cell_type": "markdown",
   "metadata": {},
   "source": [
    "# **Data Cleaning**"
   ]
  },
  {
   "cell_type": "code",
   "execution_count": 3,
   "metadata": {},
   "outputs": [
    {
     "data": {
      "text/plain": [
       "Age\n",
       "20-25              125\n",
       "15-20               50\n",
       "Less than 20        18\n",
       "35-44                4\n",
       "25-30                4\n",
       "45 and above         3\n",
       "30-35                2\n",
       "30-25                1\n",
       "30-40                1\n",
       "Less than 20-25      1\n",
       "Name: count, dtype: int64"
      ]
     },
     "execution_count": 3,
     "metadata": {},
     "output_type": "execute_result"
    }
   ],
   "source": [
    "trainData.Age.value_counts()"
   ]
  },
  {
   "cell_type": "code",
   "execution_count": 4,
   "metadata": {},
   "outputs": [
    {
     "data": {
      "text/plain": [
       "Age\n",
       "20-30    129\n",
       "<20       69\n",
       "30-44      8\n",
       ">45        3\n",
       "Name: count, dtype: int64"
      ]
     },
     "execution_count": 4,
     "metadata": {},
     "output_type": "execute_result"
    }
   ],
   "source": [
    "trainData[\"Age\"] = trainData[\"Age\"].replace({\"20-25\": \"20-30\",\n",
    "                                             \"15-20\": \"<20\",\n",
    "                                             \"Less than 20\": \"<20\",\n",
    "                                             \"35-44\": \"30-44\", \"25-30\": \"20-30\",\n",
    "                                             \"45 and above\": \">45\",\n",
    "                                             \"30-35\": \"30-44\",\n",
    "                                             \"30-25\": \"30-44\",\n",
    "                                             \"30-40\": \"30-44\",\n",
    "                                             \"Less than 20-25\": \"<20\"})\n",
    "\n",
    "trainData.Age.value_counts()"
   ]
  },
  {
   "cell_type": "code",
   "execution_count": 5,
   "metadata": {},
   "outputs": [
    {
     "data": {
      "text/plain": [
       "Weight_kg\n",
       "47.0     12\n",
       "56.0     11\n",
       "53.0      9\n",
       "52.0      9\n",
       "55.0      8\n",
       "70.0      8\n",
       "41.0      7\n",
       "54.0      7\n",
       "49.0      7\n",
       "66.0      7\n",
       "59.0      6\n",
       "48.0      6\n",
       "51.0      6\n",
       "67.0      5\n",
       "45.0      5\n",
       "60.0      5\n",
       "62.0      5\n",
       "57.0      5\n",
       "58.0      5\n",
       "50.0      5\n",
       "43.0      4\n",
       "68.0      4\n",
       "65.0      4\n",
       "63.0      3\n",
       "61.0      3\n",
       "42.0      3\n",
       "30.0      3\n",
       "40.0      3\n",
       "64.0      3\n",
       "44.0      3\n",
       "71.0      3\n",
       "85.0      2\n",
       "74.0      2\n",
       "46.0      2\n",
       "73.0      2\n",
       "72.0      2\n",
       "69.0      2\n",
       "92.0      1\n",
       "54.6      1\n",
       "84.0      1\n",
       "91.0      1\n",
       "79.0      1\n",
       "80.0      1\n",
       "37.5      1\n",
       "36.0      1\n",
       "20.0      1\n",
       "36.5      1\n",
       "39.0      1\n",
       "82.0      1\n",
       "116.0     1\n",
       "52.5      1\n",
       "81.0      1\n",
       "37.0      1\n",
       "48.5      1\n",
       "75.0      1\n",
       "35.0      1\n",
       "38.0      1\n",
       "88.0      1\n",
       "53.6      1\n",
       "Name: count, dtype: int64"
      ]
     },
     "execution_count": 5,
     "metadata": {},
     "output_type": "execute_result"
    }
   ],
   "source": [
    "trainData.Weight_kg.value_counts()"
   ]
  },
  {
   "cell_type": "code",
   "execution_count": 6,
   "metadata": {},
   "outputs": [
    {
     "data": {
      "text/plain": [
       "PCOS\n",
       "No     164\n",
       "Yes     46\n",
       "Name: count, dtype: int64"
      ]
     },
     "execution_count": 6,
     "metadata": {},
     "output_type": "execute_result"
    }
   ],
   "source": [
    "trainData.PCOS.value_counts()"
   ]
  },
  {
   "cell_type": "code",
   "execution_count": 7,
   "metadata": {},
   "outputs": [
    {
     "data": {
      "text/plain": [
       "Hormonal_Imbalance\n",
       "Yes                                   111\n",
       "No                                     95\n",
       "No, Yes, not diagnosed by a doctor      1\n",
       "Yes Significantly                       1\n",
       "Name: count, dtype: int64"
      ]
     },
     "execution_count": 7,
     "metadata": {},
     "output_type": "execute_result"
    }
   ],
   "source": [
    "trainData.Hormonal_Imbalance.value_counts()"
   ]
  },
  {
   "cell_type": "code",
   "execution_count": 8,
   "metadata": {},
   "outputs": [
    {
     "data": {
      "text/plain": [
       "Hormonal_Imbalance\n",
       "Yes    112\n",
       "No      95\n",
       "Name: count, dtype: int64"
      ]
     },
     "execution_count": 8,
     "metadata": {},
     "output_type": "execute_result"
    }
   ],
   "source": [
    "trainData[\"Hormonal_Imbalance\"] = trainData[\"Hormonal_Imbalance\"].replace({\"Yes Significantly\": \"Yes\"})\n",
    "\n",
    "mask = trainData[\"Hormonal_Imbalance\"] == \"No, Yes, not diagnosed by a doctor\"\n",
    "trainData = trainData[~mask]\n",
    "\n",
    "trainData.Hormonal_Imbalance.value_counts()"
   ]
  },
  {
   "cell_type": "code",
   "execution_count": 9,
   "metadata": {},
   "outputs": [
    {
     "data": {
      "text/plain": [
       "Hyperandrogenism\n",
       "No     174\n",
       "Yes     32\n",
       "Name: count, dtype: int64"
      ]
     },
     "execution_count": 9,
     "metadata": {},
     "output_type": "execute_result"
    }
   ],
   "source": [
    "trainData.Hyperandrogenism.value_counts()"
   ]
  },
  {
   "cell_type": "code",
   "execution_count": 10,
   "metadata": {},
   "outputs": [
    {
     "data": {
      "text/plain": [
       "Hirsutism\n",
       "No                                    147\n",
       "Yes                                    55\n",
       "No, Yes, not diagnosed by a doctor      2\n",
       "Name: count, dtype: int64"
      ]
     },
     "execution_count": 10,
     "metadata": {},
     "output_type": "execute_result"
    }
   ],
   "source": [
    "trainData.Hirsutism.value_counts()"
   ]
  },
  {
   "cell_type": "code",
   "execution_count": 11,
   "metadata": {},
   "outputs": [
    {
     "data": {
      "text/plain": [
       "Hirsutism\n",
       "No     147\n",
       "Yes     55\n",
       "Name: count, dtype: int64"
      ]
     },
     "execution_count": 11,
     "metadata": {},
     "output_type": "execute_result"
    }
   ],
   "source": [
    "mask = trainData[\"Hirsutism\"] == \"No, Yes, not diagnosed by a doctor\"\n",
    "trainData = trainData[~mask]\n",
    "\n",
    "trainData.Hirsutism.value_counts()"
   ]
  },
  {
   "cell_type": "code",
   "execution_count": 12,
   "metadata": {},
   "outputs": [
    {
     "data": {
      "text/plain": [
       "Conception_Difficulty\n",
       "No                                    198\n",
       "Yes, diagnosed by a doctor              6\n",
       "No, Yes, not diagnosed by a doctor      1\n",
       "Yes                                     1\n",
       "Name: count, dtype: int64"
      ]
     },
     "execution_count": 12,
     "metadata": {},
     "output_type": "execute_result"
    }
   ],
   "source": [
    "trainData.Conception_Difficulty.value_counts()"
   ]
  },
  {
   "cell_type": "code",
   "execution_count": 13,
   "metadata": {},
   "outputs": [
    {
     "data": {
      "text/plain": [
       "Conception_Difficulty\n",
       "No     198\n",
       "Yes      7\n",
       "Name: count, dtype: int64"
      ]
     },
     "execution_count": 13,
     "metadata": {},
     "output_type": "execute_result"
    }
   ],
   "source": [
    "trainData[\"Conception_Difficulty\"] = trainData[\"Conception_Difficulty\"].replace({\"Yes, diagnosed by a doctor\": \"Yes\"})\n",
    "\n",
    "mask = trainData[\"Conception_Difficulty\"] == \"No, Yes, not diagnosed by a doctor\"\n",
    "trainData = trainData[~mask]\n",
    "\n",
    "trainData.Conception_Difficulty.value_counts()"
   ]
  },
  {
   "cell_type": "code",
   "execution_count": 14,
   "metadata": {},
   "outputs": [
    {
     "data": {
      "text/plain": [
       "Insulin_Resistance\n",
       "No     182\n",
       "Yes     23\n",
       "Name: count, dtype: int64"
      ]
     },
     "execution_count": 14,
     "metadata": {},
     "output_type": "execute_result"
    }
   ],
   "source": [
    "trainData.Insulin_Resistance.value_counts()"
   ]
  },
  {
   "cell_type": "code",
   "execution_count": 15,
   "metadata": {},
   "outputs": [
    {
     "data": {
      "text/plain": [
       "Exercise_Frequency\n",
       "Rarely               101\n",
       "1-2 Times a Week      33\n",
       "Never                 27\n",
       "3-4 Times a Week      23\n",
       "6-8 Times a Week      17\n",
       "6-8 hours              1\n",
       "Less than usual        1\n",
       "Less than 6 hours      1\n",
       "Name: count, dtype: int64"
      ]
     },
     "execution_count": 15,
     "metadata": {},
     "output_type": "execute_result"
    }
   ],
   "source": [
    "trainData.Exercise_Frequency.value_counts()"
   ]
  },
  {
   "cell_type": "code",
   "execution_count": 16,
   "metadata": {},
   "outputs": [
    {
     "data": {
      "text/plain": [
       "Exercise_Frequency\n",
       "Rarely              101\n",
       "1-2 Times a Week     33\n",
       "Never                27\n",
       "3-4 Times a Week     24\n",
       "6-8 Times a Week     18\n",
       "Name: count, dtype: int64"
      ]
     },
     "execution_count": 16,
     "metadata": {},
     "output_type": "execute_result"
    }
   ],
   "source": [
    "trainData[\"Exercise_Frequency\"] = trainData[\"Exercise_Frequency\"].replace({\"6-8 hours\": \"6-8 Times a Week\",\n",
    "                                                                           \"Less than 6 hours\": \"3-4 Times a Week\"})\n",
    "\n",
    "mask = trainData[\"Exercise_Frequency\"] == \"Less than usual\"\n",
    "trainData = trainData[~mask]\n",
    "\n",
    "trainData.Exercise_Frequency.value_counts()"
   ]
  },
  {
   "cell_type": "code",
   "execution_count": 17,
   "metadata": {},
   "outputs": [
    {
     "data": {
      "text/plain": [
       "Exercise_Type\n",
       "No Exercise                                                                                                                                                89\n",
       "Cardio (e.g., running, cycling, swimming)                                                                                                                  49\n",
       "Cardio (e.g.                                                                                                                                               24\n",
       "Flexibility and balance (e.g., yoga, pilates)                                                                                                              16\n",
       "Strength training (e.g., weightlifting, resistance exercises)                                                                                               5\n",
       "Cardio (e.g., running, cycling, swimming), Strength training (e.g., weightlifting, resistance exercises)                                                    4\n",
       "Cardio (e.g., running, cycling, swimming), Flexibility and balance (e.g., yoga, pilates)                                                                    4\n",
       "High-intensity interval training (HIIT)                                                                                                                     3\n",
       "Cardio (e.g., running, cycling, swimming), Strength training (e.g., weightlifting, resistance exercises), Flexibility and balance (e.g., yoga, pilates)     2\n",
       "Strength training (e.g., weightlifting, resistance exercises), Flexibility and balance (e.g., yoga, pilates)                                                1\n",
       "Flexibility and balance (e.g., yoga, pilates), None                                                                                                         1\n",
       "Cardio (e.g., running, cycling, swimming), None                                                                                                             1\n",
       "Strength training                                                                                                                                           1\n",
       "Strength training (e.g.                                                                                                                                     1\n",
       "Somewhat                                                                                                                                                    1\n",
       "Flexibility and balance (e.g.                                                                                                                               1\n",
       "Name: count, dtype: int64"
      ]
     },
     "execution_count": 17,
     "metadata": {},
     "output_type": "execute_result"
    }
   ],
   "source": [
    "trainData.Exercise_Type.value_counts()"
   ]
  },
  {
   "cell_type": "code",
   "execution_count": 18,
   "metadata": {},
   "outputs": [
    {
     "data": {
      "text/plain": [
       "Exercise_Type\n",
       "No Exercise                                  89\n",
       "Cardio                                       78\n",
       "Flexibility and Balance                      18\n",
       "Strength                                      7\n",
       "Cardio, Flexibility and Balance               4\n",
       "HIIT                                          3\n",
       "Cardio, Strength, Flexibility and Balance     2\n",
       "Strength, Flexibility and Balance             1\n",
       "Name: count, dtype: int64"
      ]
     },
     "execution_count": 18,
     "metadata": {},
     "output_type": "execute_result"
    }
   ],
   "source": [
    "trainData[\"Exercise_Type\"] = trainData[\"Exercise_Type\"].replace({\"Cardio (e.g., running, cycling, swimming)\": \"Cardio\",\n",
    "                                                                 \"Cardio (e.g.\": \"Cardio\",\n",
    "                                                                 \"Flexibility and balance (e.g., yoga, pilates)\": \"Flexibility and Balance\",\n",
    "                                                                 \"Strength training (e.g., weightlifting, resistance exercises)\": \"Strength\",\n",
    "                                                                 \"Cardio (e.g., running, cycling, swimming), Strength training (e.g., weightlifting, resistance exercises)\": \"Cardio\",\n",
    "                                                                 \"Cardio (e.g., running, cycling, swimming), Flexibility and balance (e.g., yoga, pilates)\": \"Cardio, Flexibility and Balance\",\n",
    "                                                                 \"High-intensity interval training (HIIT)\": \"HIIT\",\n",
    "                                                                 \"Cardio (e.g., running, cycling, swimming), Strength training (e.g., weightlifting, resistance exercises), Flexibility and balance (e.g., yoga, pilates)\": \"Cardio, Strength, Flexibility and Balance\",\n",
    "                                                                 \"Strength training (e.g., weightlifting, resistance exercises), Flexibility and balance (e.g., yoga, pilates)\": \"Strength, Flexibility and Balance\",\n",
    "                                                                 \"Flexibility and balance (e.g., yoga, pilates), None\": \"Flexibility and Balance\",\n",
    "                                                                 \"Flexibility and balance (e.g., yoga, pilates), None\": \"Flexibility and Balance\",\n",
    "                                                                 \"Cardio (e.g., running, cycling, swimming), None\": \"Cardio\",\n",
    "                                                                 \"Strength training\": \"Strength\",\n",
    "                                                                 \"Strength training (e.g.\": \"Strength\", \"Flexibility and balance (e.g.\": \"Flexibility and Balance\"})\n",
    "\n",
    "mask = trainData[\"Exercise_Type\"] == \"Somewhat\"\n",
    "trainData = trainData[~mask]\n",
    "\n",
    "trainData.Exercise_Type.value_counts()"
   ]
  },
  {
   "cell_type": "code",
   "execution_count": 19,
   "metadata": {},
   "outputs": [
    {
     "data": {
      "text/plain": [
       "Exercise_Duration\n",
       "Not Applicable          83\n",
       "Less than 30 minutes    60\n",
       "30 minutes              32\n",
       "45 minutes              17\n",
       "More than 30 minutes     7\n",
       "20 minutes               1\n",
       "Less than 6 hours        1\n",
       "30 minutes to 1 hour     1\n",
       "Name: count, dtype: int64"
      ]
     },
     "execution_count": 19,
     "metadata": {},
     "output_type": "execute_result"
    }
   ],
   "source": [
    "trainData.Exercise_Duration.value_counts()"
   ]
  },
  {
   "cell_type": "code",
   "execution_count": 20,
   "metadata": {},
   "outputs": [
    {
     "data": {
      "text/plain": [
       "Exercise_Duration\n",
       "Not Applicable          83\n",
       "<30 minutes             61\n",
       "30 minutes              32\n",
       "45 minutes              17\n",
       ">30 minutes              7\n",
       "30 minutes to 1 hour     1\n",
       "Name: count, dtype: int64"
      ]
     },
     "execution_count": 20,
     "metadata": {},
     "output_type": "execute_result"
    }
   ],
   "source": [
    "trainData[\"Exercise_Duration\"] = trainData[\"Exercise_Duration\"].replace({\"Less than 30 minutes\": \"<30 minutes\",\n",
    "                                                                         \"More than 30 minutes\": \">30 minutes\",\n",
    "                                                                         \"20 minutes\": \"<30 minutes\"})\n",
    "\n",
    "mask = trainData[\"Exercise_Duration\"] == \"Less than 6 hours\"\n",
    "trainData = trainData[~mask]\n",
    "\n",
    "trainData.Exercise_Duration.value_counts()"
   ]
  },
  {
   "cell_type": "code",
   "execution_count": 21,
   "metadata": {},
   "outputs": [
    {
     "data": {
      "text/plain": [
       "Sleep_Hours\n",
       "6-8 hours             131\n",
       "Less than 6 hours      56\n",
       "9-12 hours             12\n",
       "More than 12 hours      1\n",
       "3-4 hours               1\n",
       "Name: count, dtype: int64"
      ]
     },
     "execution_count": 21,
     "metadata": {},
     "output_type": "execute_result"
    }
   ],
   "source": [
    "trainData.Sleep_Hours.value_counts()"
   ]
  },
  {
   "cell_type": "code",
   "execution_count": 22,
   "metadata": {},
   "outputs": [
    {
     "data": {
      "text/plain": [
       "Sleep_Hours\n",
       "6-8 hours     131\n",
       "<6 hours       56\n",
       "9-12 hours     12\n",
       ">12 hours       1\n",
       "3-4 hours       1\n",
       "Name: count, dtype: int64"
      ]
     },
     "execution_count": 22,
     "metadata": {},
     "output_type": "execute_result"
    }
   ],
   "source": [
    "trainData[\"Sleep_Hours\"] = trainData[\"Sleep_Hours\"].replace({\"Less than 6 hours\": \"<6 hours\",\n",
    "                                                             \"More than 12 hours\": \">12 hours\",})\n",
    "\n",
    "trainData.Sleep_Hours.value_counts()"
   ]
  },
  {
   "cell_type": "code",
   "execution_count": 23,
   "metadata": {},
   "outputs": [
    {
     "data": {
      "text/plain": [
       "Exercise_Benefit\n",
       "Somewhat             133\n",
       "Not at All            26\n",
       "Yes Significantly     24\n",
       "Not Much              19\n",
       "Name: count, dtype: int64"
      ]
     },
     "execution_count": 23,
     "metadata": {},
     "output_type": "execute_result"
    }
   ],
   "source": [
    "trainData.Exercise_Benefit.value_counts()"
   ]
  },
  {
   "cell_type": "markdown",
   "metadata": {},
   "source": [
    "# **EDA**"
   ]
  },
  {
   "cell_type": "code",
   "execution_count": 24,
   "metadata": {},
   "outputs": [],
   "source": [
    "import matplotlib.pyplot as plt\n",
    "import seaborn as sns\n",
    "import warnings\n",
    "\n",
    "warnings.filterwarnings(\"ignore\", \"use_inf_as_na\")\n",
    "warnings.filterwarnings(\"ignore\", message=\".*get_group.*\", category=FutureWarning)\n",
    "\n",
    "numericalFeatures = trainData.select_dtypes(exclude=\"object\").copy()\n",
    "categoricalFeatures = trainData.select_dtypes(include=\"object\").drop(\"PCOS\", axis=1).copy()"
   ]
  },
  {
   "cell_type": "markdown",
   "metadata": {},
   "source": [
    "## Numerical"
   ]
  },
  {
   "cell_type": "code",
   "execution_count": 25,
   "metadata": {},
   "outputs": [
    {
     "data": {
      "image/png": "[encoded data removed]",
      "text/plain": [
       "<Figure size 1000x500 with 1 Axes>"
      ]
     },
     "metadata": {},
     "output_type": "display_data"
    },
    {
     "data": {
      "image/png": "[encoded data removed]",
      "text/plain": [
       "<Figure size 1000x500 with 1 Axes>"
      ]
     },
     "metadata": {},
     "output_type": "display_data"
    }
   ],
   "source": [
    "fig = plt.figure(figsize=(10,5))\n",
    "plt.title(\"Distribution of Weight\")\n",
    "sns.histplot(numericalFeatures[\"Weight_kg\"])\n",
    "plt.show()\n",
    "\n",
    "fig = plt.figure(figsize=(10,5))\n",
    "plt.title(\"Swarmplot of Weight With PCOS Diagnosis\")\n",
    "sns.swarmplot(x=trainData[\"PCOS\"], y=numericalFeatures[\"Weight_kg\"])\n",
    "plt.show()"
   ]
  },
  {
   "cell_type": "markdown",
   "metadata": {},
   "source": [
    "Doesn't seem that weight has an impact on PCOS diagnosis."
   ]
  },
  {
   "cell_type": "markdown",
   "metadata": {},
   "source": [
    "## Categorical"
   ]
  },
  {
   "cell_type": "code",
   "execution_count": 26,
   "metadata": {},
   "outputs": [
    {
     "data": {
      "image/png": "[encoded data removed]",
      "text/plain": [
       "<Figure size 1000x500 with 1 Axes>"
      ]
     },
     "metadata": {},
     "output_type": "display_data"
    },
    {
     "data": {
      "image/png": "[encoded data removed]",
      "text/plain": [
       "<Figure size 1000x300 with 1 Axes>"
      ]
     },
     "metadata": {},
     "output_type": "display_data"
    },
    {
     "data": {
      "image/png": "[encoded data removed]",
      "text/plain": [
       "<Figure size 1000x300 with 1 Axes>"
      ]
     },
     "metadata": {},
     "output_type": "display_data"
    },
    {
     "data": {
      "image/png": "[encoded data removed]",
      "text/plain": [
       "<Figure size 1000x300 with 1 Axes>"
      ]
     },
     "metadata": {},
     "output_type": "display_data"
    },
    {
     "data": {
      "image/png": "[encoded data removed]",
      "text/plain": [
       "<Figure size 1000x300 with 1 Axes>"
      ]
     },
     "metadata": {},
     "output_type": "display_data"
    },
    {
     "data": {
      "image/png": "[encoded data removed]",
      "text/plain": [
       "<Figure size 1000x300 with 1 Axes>"
      ]
     },
     "metadata": {},
     "output_type": "display_data"
    },
    {
     "data": {
      "image/png": "[encoded data removed]",
      "text/plain": [
       "<Figure size 1000x300 with 1 Axes>"
      ]
     },
     "metadata": {},
     "output_type": "display_data"
    },
    {
     "data": {
      "image/png": "[encoded data removed]",
      "text/plain": [
       "<Figure size 1000x300 with 1 Axes>"
      ]
     },
     "metadata": {},
     "output_type": "display_data"
    },
    {
     "data": {
      "image/png": "[encoded data removed]",
      "text/plain": [
       "<Figure size 1000x300 with 1 Axes>"
      ]
     },
     "metadata": {},
     "output_type": "display_data"
    },
    {
     "data": {
      "image/png": "[encoded data removed]",
      "text/plain": [
       "<Figure size 1000x300 with 1 Axes>"
      ]
     },
     "metadata": {},
     "output_type": "display_data"
    },
    {
     "data": {
      "image/png": "[encoded data removed]",
      "text/plain": [
       "<Figure size 1000x300 with 1 Axes>"
      ]
     },
     "metadata": {},
     "output_type": "display_data"
    },
    {
     "data": {
      "image/png": "[encoded data removed]",
      "text/plain": [
       "<Figure size 1000x300 with 1 Axes>"
      ]
     },
     "metadata": {},
     "output_type": "display_data"
    }
   ],
   "source": [
    "fig = plt.figure(figsize=(10,5))\n",
    "sns.histplot(x=\"PCOS\", hue=\"PCOS\", data=trainData, multiple=\"stack\")\n",
    "plt.xlabel(\"PCOS\")\n",
    "plt.show()\n",
    "\n",
    "for i,col in enumerate(categoricalFeatures.columns):\n",
    "    fig = plt.figure(figsize=(10,3))\n",
    "    sns.histplot(x=col, hue=\"PCOS\", data=trainData, multiple=\"stack\")\n",
    "    plt.xlabel(col)\n",
    "    plt.gcf().autofmt_xdate()\n",
    "    plt.show()"
   ]
  },
  {
   "cell_type": "markdown",
   "metadata": {},
   "source": [
    "Hyperandrogenism, conception difficulty and insulin resistance seem to have very high amounts of PCOS, as well as hirsutism and hormonal imbalance. Can't see any clear patterns in other data."
   ]
  },
  {
   "cell_type": "code",
   "execution_count": 27,
   "metadata": {},
   "outputs": [
    {
     "data": {
      "text/html": [
       "<div>\n",
       "<style scoped>\n",
       "    .dataframe tbody tr th:only-of-type {\n",
       "        vertical-align: middle;\n",
       "    }\n",
       "\n",
       "    .dataframe tbody tr th {\n",
       "        vertical-align: top;\n",
       "    }\n",
       "\n",
       "    .dataframe thead th {\n",
       "        text-align: right;\n",
       "    }\n",
       "</style>\n",
       "<table border=\"1\" class=\"dataframe\">\n",
       "  <thead>\n",
       "    <tr style=\"text-align: right;\">\n",
       "      <th></th>\n",
       "      <th>PCOS</th>\n",
       "      <th>Probability</th>\n",
       "    </tr>\n",
       "    <tr>\n",
       "      <th>Age</th>\n",
       "      <th></th>\n",
       "      <th></th>\n",
       "    </tr>\n",
       "  </thead>\n",
       "  <tbody>\n",
       "    <tr>\n",
       "      <th>&gt;45</th>\n",
       "      <td>No</td>\n",
       "      <td>1.0</td>\n",
       "    </tr>\n",
       "    <tr>\n",
       "      <th>&lt;20</th>\n",
       "      <td>No</td>\n",
       "      <td>1.0</td>\n",
       "    </tr>\n",
       "    <tr>\n",
       "      <th>&lt;20</th>\n",
       "      <td>Yes</td>\n",
       "      <td>1.0</td>\n",
       "    </tr>\n",
       "    <tr>\n",
       "      <th>30-44</th>\n",
       "      <td>No</td>\n",
       "      <td>1.0</td>\n",
       "    </tr>\n",
       "    <tr>\n",
       "      <th>20-30</th>\n",
       "      <td>No</td>\n",
       "      <td>1.0</td>\n",
       "    </tr>\n",
       "    <tr>\n",
       "      <th>20-30</th>\n",
       "      <td>Yes</td>\n",
       "      <td>1.0</td>\n",
       "    </tr>\n",
       "  </tbody>\n",
       "</table>\n",
       "</div>"
      ],
      "text/plain": [
       "      PCOS  Probability\n",
       "Age                    \n",
       ">45     No          1.0\n",
       "<20     No          1.0\n",
       "<20    Yes          1.0\n",
       "30-44   No          1.0\n",
       "20-30   No          1.0\n",
       "20-30  Yes          1.0"
      ]
     },
     "execution_count": 27,
     "metadata": {},
     "output_type": "execute_result"
    }
   ],
   "source": [
    "trainData[[\"Age\", \"PCOS\"]].groupby([\"Age\", \"PCOS\"]).value_counts(dropna=True, normalize=True).reset_index(name=\"Probability\").sort_values(by=[\"Age\"], ascending=False).set_index(\"Age\")"
   ]
  },
  {
   "cell_type": "markdown",
   "metadata": {},
   "source": [
    "PCOS seems more prevalent in people under 30."
   ]
  },
  {
   "cell_type": "code",
   "execution_count": 28,
   "metadata": {},
   "outputs": [
    {
     "data": {
      "text/html": [
       "<div>\n",
       "<style scoped>\n",
       "    .dataframe tbody tr th:only-of-type {\n",
       "        vertical-align: middle;\n",
       "    }\n",
       "\n",
       "    .dataframe tbody tr th {\n",
       "        vertical-align: top;\n",
       "    }\n",
       "\n",
       "    .dataframe thead th {\n",
       "        text-align: right;\n",
       "    }\n",
       "</style>\n",
       "<table border=\"1\" class=\"dataframe\">\n",
       "  <thead>\n",
       "    <tr style=\"text-align: right;\">\n",
       "      <th></th>\n",
       "      <th>PCOS</th>\n",
       "      <th>Probability</th>\n",
       "    </tr>\n",
       "    <tr>\n",
       "      <th>Hormonal_Imbalance</th>\n",
       "      <th></th>\n",
       "      <th></th>\n",
       "    </tr>\n",
       "  </thead>\n",
       "  <tbody>\n",
       "    <tr>\n",
       "      <th>Yes</th>\n",
       "      <td>Yes</td>\n",
       "      <td>0.364486</td>\n",
       "    </tr>\n",
       "    <tr>\n",
       "      <th>Yes</th>\n",
       "      <td>No</td>\n",
       "      <td>0.635514</td>\n",
       "    </tr>\n",
       "    <tr>\n",
       "      <th>No</th>\n",
       "      <td>Yes</td>\n",
       "      <td>0.042553</td>\n",
       "    </tr>\n",
       "    <tr>\n",
       "      <th>No</th>\n",
       "      <td>No</td>\n",
       "      <td>0.957447</td>\n",
       "    </tr>\n",
       "  </tbody>\n",
       "</table>\n",
       "</div>"
      ],
      "text/plain": [
       "                   PCOS  Probability\n",
       "Hormonal_Imbalance                  \n",
       "Yes                 Yes     0.364486\n",
       "Yes                  No     0.635514\n",
       "No                  Yes     0.042553\n",
       "No                   No     0.957447"
      ]
     },
     "execution_count": 28,
     "metadata": {},
     "output_type": "execute_result"
    }
   ],
   "source": [
    "trainData[[\"Hormonal_Imbalance\", \"PCOS\"]].groupby(\"Hormonal_Imbalance\").value_counts(dropna=True, normalize=True).reset_index(name=\"Probability\").sort_values(by=[\"Hormonal_Imbalance\", \"PCOS\"], ascending=False).set_index(\"Hormonal_Imbalance\")"
   ]
  },
  {
   "cell_type": "markdown",
   "metadata": {},
   "source": [
    "Very low chance of PCOS with no hormonal imbalance, but a much higher chance with."
   ]
  },
  {
   "cell_type": "code",
   "execution_count": 29,
   "metadata": {},
   "outputs": [
    {
     "data": {
      "text/html": [
       "<div>\n",
       "<style scoped>\n",
       "    .dataframe tbody tr th:only-of-type {\n",
       "        vertical-align: middle;\n",
       "    }\n",
       "\n",
       "    .dataframe tbody tr th {\n",
       "        vertical-align: top;\n",
       "    }\n",
       "\n",
       "    .dataframe thead th {\n",
       "        text-align: right;\n",
       "    }\n",
       "</style>\n",
       "<table border=\"1\" class=\"dataframe\">\n",
       "  <thead>\n",
       "    <tr style=\"text-align: right;\">\n",
       "      <th></th>\n",
       "      <th>PCOS</th>\n",
       "      <th>Probability</th>\n",
       "    </tr>\n",
       "    <tr>\n",
       "      <th>Hyperandrogenism</th>\n",
       "      <th></th>\n",
       "      <th></th>\n",
       "    </tr>\n",
       "  </thead>\n",
       "  <tbody>\n",
       "    <tr>\n",
       "      <th>Yes</th>\n",
       "      <td>Yes</td>\n",
       "      <td>0.750000</td>\n",
       "    </tr>\n",
       "    <tr>\n",
       "      <th>Yes</th>\n",
       "      <td>No</td>\n",
       "      <td>0.250000</td>\n",
       "    </tr>\n",
       "    <tr>\n",
       "      <th>No</th>\n",
       "      <td>Yes</td>\n",
       "      <td>0.119048</td>\n",
       "    </tr>\n",
       "    <tr>\n",
       "      <th>No</th>\n",
       "      <td>No</td>\n",
       "      <td>0.880952</td>\n",
       "    </tr>\n",
       "  </tbody>\n",
       "</table>\n",
       "</div>"
      ],
      "text/plain": [
       "                 PCOS  Probability\n",
       "Hyperandrogenism                  \n",
       "Yes               Yes     0.750000\n",
       "Yes                No     0.250000\n",
       "No                Yes     0.119048\n",
       "No                 No     0.880952"
      ]
     },
     "execution_count": 29,
     "metadata": {},
     "output_type": "execute_result"
    }
   ],
   "source": [
    "trainData[[\"Hyperandrogenism\", \"PCOS\"]].groupby(\"Hyperandrogenism\").value_counts(dropna=True, normalize=True).reset_index(name=\"Probability\").sort_values(by=[\"Hyperandrogenism\", \"PCOS\"], ascending=False).set_index(\"Hyperandrogenism\")"
   ]
  },
  {
   "cell_type": "markdown",
   "metadata": {},
   "source": [
    "Hyperandrogenism increases PCOS chance by roughly 150%."
   ]
  },
  {
   "cell_type": "code",
   "execution_count": 30,
   "metadata": {},
   "outputs": [
    {
     "data": {
      "text/html": [
       "<div>\n",
       "<style scoped>\n",
       "    .dataframe tbody tr th:only-of-type {\n",
       "        vertical-align: middle;\n",
       "    }\n",
       "\n",
       "    .dataframe tbody tr th {\n",
       "        vertical-align: top;\n",
       "    }\n",
       "\n",
       "    .dataframe thead th {\n",
       "        text-align: right;\n",
       "    }\n",
       "</style>\n",
       "<table border=\"1\" class=\"dataframe\">\n",
       "  <thead>\n",
       "    <tr style=\"text-align: right;\">\n",
       "      <th></th>\n",
       "      <th>PCOS</th>\n",
       "      <th>Probability</th>\n",
       "    </tr>\n",
       "    <tr>\n",
       "      <th>Hirsutism</th>\n",
       "      <th></th>\n",
       "      <th></th>\n",
       "    </tr>\n",
       "  </thead>\n",
       "  <tbody>\n",
       "    <tr>\n",
       "      <th>Yes</th>\n",
       "      <td>Yes</td>\n",
       "      <td>0.472727</td>\n",
       "    </tr>\n",
       "    <tr>\n",
       "      <th>Yes</th>\n",
       "      <td>No</td>\n",
       "      <td>0.527273</td>\n",
       "    </tr>\n",
       "    <tr>\n",
       "      <th>No</th>\n",
       "      <td>Yes</td>\n",
       "      <td>0.111111</td>\n",
       "    </tr>\n",
       "    <tr>\n",
       "      <th>No</th>\n",
       "      <td>No</td>\n",
       "      <td>0.888889</td>\n",
       "    </tr>\n",
       "  </tbody>\n",
       "</table>\n",
       "</div>"
      ],
      "text/plain": [
       "          PCOS  Probability\n",
       "Hirsutism                  \n",
       "Yes        Yes     0.472727\n",
       "Yes         No     0.527273\n",
       "No         Yes     0.111111\n",
       "No          No     0.888889"
      ]
     },
     "execution_count": 30,
     "metadata": {},
     "output_type": "execute_result"
    }
   ],
   "source": [
    "trainData[[\"Hirsutism\", \"PCOS\"]].groupby(\"Hirsutism\").value_counts(dropna=True, normalize=True).reset_index(name=\"Probability\").sort_values(by=[\"Hirsutism\", \"PCOS\"], ascending=False).set_index(\"Hirsutism\")"
   ]
  },
  {
   "cell_type": "markdown",
   "metadata": {},
   "source": [
    "50% chance of PCOS with hirsutism."
   ]
  },
  {
   "cell_type": "code",
   "execution_count": 31,
   "metadata": {},
   "outputs": [
    {
     "data": {
      "text/html": [
       "<div>\n",
       "<style scoped>\n",
       "    .dataframe tbody tr th:only-of-type {\n",
       "        vertical-align: middle;\n",
       "    }\n",
       "\n",
       "    .dataframe tbody tr th {\n",
       "        vertical-align: top;\n",
       "    }\n",
       "\n",
       "    .dataframe thead th {\n",
       "        text-align: right;\n",
       "    }\n",
       "</style>\n",
       "<table border=\"1\" class=\"dataframe\">\n",
       "  <thead>\n",
       "    <tr style=\"text-align: right;\">\n",
       "      <th></th>\n",
       "      <th>PCOS</th>\n",
       "      <th>Probability</th>\n",
       "    </tr>\n",
       "    <tr>\n",
       "      <th>Conception_Difficulty</th>\n",
       "      <th></th>\n",
       "      <th></th>\n",
       "    </tr>\n",
       "  </thead>\n",
       "  <tbody>\n",
       "    <tr>\n",
       "      <th>Yes</th>\n",
       "      <td>Yes</td>\n",
       "      <td>0.857143</td>\n",
       "    </tr>\n",
       "    <tr>\n",
       "      <th>Yes</th>\n",
       "      <td>No</td>\n",
       "      <td>0.142857</td>\n",
       "    </tr>\n",
       "    <tr>\n",
       "      <th>No</th>\n",
       "      <td>Yes</td>\n",
       "      <td>0.194872</td>\n",
       "    </tr>\n",
       "    <tr>\n",
       "      <th>No</th>\n",
       "      <td>No</td>\n",
       "      <td>0.805128</td>\n",
       "    </tr>\n",
       "  </tbody>\n",
       "</table>\n",
       "</div>"
      ],
      "text/plain": [
       "                      PCOS  Probability\n",
       "Conception_Difficulty                  \n",
       "Yes                    Yes     0.857143\n",
       "Yes                     No     0.142857\n",
       "No                     Yes     0.194872\n",
       "No                      No     0.805128"
      ]
     },
     "execution_count": 31,
     "metadata": {},
     "output_type": "execute_result"
    }
   ],
   "source": [
    "trainData[[\"Conception_Difficulty\", \"PCOS\"]].groupby(\"Conception_Difficulty\").value_counts(dropna=True, normalize=True).reset_index(name=\"Probability\").sort_values(by=[\"Conception_Difficulty\", \"PCOS\"], ascending=False).set_index(\"Conception_Difficulty\")"
   ]
  },
  {
   "cell_type": "markdown",
   "metadata": {},
   "source": [
    "Conception difficulty means an incredibly high chance of PCOS."
   ]
  },
  {
   "cell_type": "code",
   "execution_count": 32,
   "metadata": {},
   "outputs": [
    {
     "data": {
      "text/html": [
       "<div>\n",
       "<style scoped>\n",
       "    .dataframe tbody tr th:only-of-type {\n",
       "        vertical-align: middle;\n",
       "    }\n",
       "\n",
       "    .dataframe tbody tr th {\n",
       "        vertical-align: top;\n",
       "    }\n",
       "\n",
       "    .dataframe thead th {\n",
       "        text-align: right;\n",
       "    }\n",
       "</style>\n",
       "<table border=\"1\" class=\"dataframe\">\n",
       "  <thead>\n",
       "    <tr style=\"text-align: right;\">\n",
       "      <th></th>\n",
       "      <th>PCOS</th>\n",
       "      <th>Probability</th>\n",
       "    </tr>\n",
       "    <tr>\n",
       "      <th>Insulin_Resistance</th>\n",
       "      <th></th>\n",
       "      <th></th>\n",
       "    </tr>\n",
       "  </thead>\n",
       "  <tbody>\n",
       "    <tr>\n",
       "      <th>Yes</th>\n",
       "      <td>Yes</td>\n",
       "      <td>0.739130</td>\n",
       "    </tr>\n",
       "    <tr>\n",
       "      <th>Yes</th>\n",
       "      <td>No</td>\n",
       "      <td>0.260870</td>\n",
       "    </tr>\n",
       "    <tr>\n",
       "      <th>No</th>\n",
       "      <td>Yes</td>\n",
       "      <td>0.150838</td>\n",
       "    </tr>\n",
       "    <tr>\n",
       "      <th>No</th>\n",
       "      <td>No</td>\n",
       "      <td>0.849162</td>\n",
       "    </tr>\n",
       "  </tbody>\n",
       "</table>\n",
       "</div>"
      ],
      "text/plain": [
       "                   PCOS  Probability\n",
       "Insulin_Resistance                  \n",
       "Yes                 Yes     0.739130\n",
       "Yes                  No     0.260870\n",
       "No                  Yes     0.150838\n",
       "No                   No     0.849162"
      ]
     },
     "execution_count": 32,
     "metadata": {},
     "output_type": "execute_result"
    }
   ],
   "source": [
    "trainData[[\"Insulin_Resistance\", \"PCOS\"]].groupby(\"Insulin_Resistance\").value_counts(dropna=True, normalize=True).reset_index(name=\"Probability\").sort_values(by=[\"Insulin_Resistance\", \"PCOS\"], ascending=False).set_index(\"Insulin_Resistance\")"
   ]
  },
  {
   "cell_type": "markdown",
   "metadata": {},
   "source": [
    "Twice as likely to have PCOS with insulin resistance."
   ]
  },
  {
   "cell_type": "code",
   "execution_count": 33,
   "metadata": {},
   "outputs": [
    {
     "data": {
      "text/html": [
       "<div>\n",
       "<style scoped>\n",
       "    .dataframe tbody tr th:only-of-type {\n",
       "        vertical-align: middle;\n",
       "    }\n",
       "\n",
       "    .dataframe tbody tr th {\n",
       "        vertical-align: top;\n",
       "    }\n",
       "\n",
       "    .dataframe thead th {\n",
       "        text-align: right;\n",
       "    }\n",
       "</style>\n",
       "<table border=\"1\" class=\"dataframe\">\n",
       "  <thead>\n",
       "    <tr style=\"text-align: right;\">\n",
       "      <th></th>\n",
       "      <th>PCOS</th>\n",
       "      <th>Probability</th>\n",
       "    </tr>\n",
       "    <tr>\n",
       "      <th>Exercise_Frequency</th>\n",
       "      <th></th>\n",
       "      <th></th>\n",
       "    </tr>\n",
       "  </thead>\n",
       "  <tbody>\n",
       "    <tr>\n",
       "      <th>Rarely</th>\n",
       "      <td>Yes</td>\n",
       "      <td>0.230000</td>\n",
       "    </tr>\n",
       "    <tr>\n",
       "      <th>Rarely</th>\n",
       "      <td>No</td>\n",
       "      <td>0.770000</td>\n",
       "    </tr>\n",
       "    <tr>\n",
       "      <th>Never</th>\n",
       "      <td>Yes</td>\n",
       "      <td>0.230769</td>\n",
       "    </tr>\n",
       "    <tr>\n",
       "      <th>Never</th>\n",
       "      <td>No</td>\n",
       "      <td>0.769231</td>\n",
       "    </tr>\n",
       "    <tr>\n",
       "      <th>6-8 Times a Week</th>\n",
       "      <td>Yes</td>\n",
       "      <td>0.111111</td>\n",
       "    </tr>\n",
       "    <tr>\n",
       "      <th>6-8 Times a Week</th>\n",
       "      <td>No</td>\n",
       "      <td>0.888889</td>\n",
       "    </tr>\n",
       "    <tr>\n",
       "      <th>3-4 Times a Week</th>\n",
       "      <td>Yes</td>\n",
       "      <td>0.333333</td>\n",
       "    </tr>\n",
       "    <tr>\n",
       "      <th>3-4 Times a Week</th>\n",
       "      <td>No</td>\n",
       "      <td>0.666667</td>\n",
       "    </tr>\n",
       "    <tr>\n",
       "      <th>1-2 Times a Week</th>\n",
       "      <td>Yes</td>\n",
       "      <td>0.151515</td>\n",
       "    </tr>\n",
       "    <tr>\n",
       "      <th>1-2 Times a Week</th>\n",
       "      <td>No</td>\n",
       "      <td>0.848485</td>\n",
       "    </tr>\n",
       "  </tbody>\n",
       "</table>\n",
       "</div>"
      ],
      "text/plain": [
       "                   PCOS  Probability\n",
       "Exercise_Frequency                  \n",
       "Rarely              Yes     0.230000\n",
       "Rarely               No     0.770000\n",
       "Never               Yes     0.230769\n",
       "Never                No     0.769231\n",
       "6-8 Times a Week    Yes     0.111111\n",
       "6-8 Times a Week     No     0.888889\n",
       "3-4 Times a Week    Yes     0.333333\n",
       "3-4 Times a Week     No     0.666667\n",
       "1-2 Times a Week    Yes     0.151515\n",
       "1-2 Times a Week     No     0.848485"
      ]
     },
     "execution_count": 33,
     "metadata": {},
     "output_type": "execute_result"
    }
   ],
   "source": [
    "trainData[[\"Exercise_Frequency\", \"PCOS\"]].groupby(\"Exercise_Frequency\").value_counts(dropna=True, normalize=True).reset_index(name=\"Probability\").sort_values(by=[\"Exercise_Frequency\", \"PCOS\"], ascending=False).set_index(\"Exercise_Frequency\")"
   ]
  },
  {
   "cell_type": "markdown",
   "metadata": {},
   "source": [
    "Seems to be a higher chance of PCOS with little to rare exercise, though 3-4 times a week seems very high."
   ]
  },
  {
   "cell_type": "code",
   "execution_count": 34,
   "metadata": {},
   "outputs": [
    {
     "data": {
      "text/html": [
       "<div>\n",
       "<style scoped>\n",
       "    .dataframe tbody tr th:only-of-type {\n",
       "        vertical-align: middle;\n",
       "    }\n",
       "\n",
       "    .dataframe tbody tr th {\n",
       "        vertical-align: top;\n",
       "    }\n",
       "\n",
       "    .dataframe thead th {\n",
       "        text-align: right;\n",
       "    }\n",
       "</style>\n",
       "<table border=\"1\" class=\"dataframe\">\n",
       "  <thead>\n",
       "    <tr style=\"text-align: right;\">\n",
       "      <th></th>\n",
       "      <th>PCOS</th>\n",
       "      <th>Probability</th>\n",
       "    </tr>\n",
       "    <tr>\n",
       "      <th>Exercise_Type</th>\n",
       "      <th></th>\n",
       "      <th></th>\n",
       "    </tr>\n",
       "  </thead>\n",
       "  <tbody>\n",
       "    <tr>\n",
       "      <th>Strength, Flexibility and Balance</th>\n",
       "      <td>No</td>\n",
       "      <td>1.000000</td>\n",
       "    </tr>\n",
       "    <tr>\n",
       "      <th>Strength</th>\n",
       "      <td>Yes</td>\n",
       "      <td>0.142857</td>\n",
       "    </tr>\n",
       "    <tr>\n",
       "      <th>Strength</th>\n",
       "      <td>No</td>\n",
       "      <td>0.857143</td>\n",
       "    </tr>\n",
       "    <tr>\n",
       "      <th>No Exercise</th>\n",
       "      <td>Yes</td>\n",
       "      <td>0.193182</td>\n",
       "    </tr>\n",
       "    <tr>\n",
       "      <th>No Exercise</th>\n",
       "      <td>No</td>\n",
       "      <td>0.806818</td>\n",
       "    </tr>\n",
       "    <tr>\n",
       "      <th>HIIT</th>\n",
       "      <td>Yes</td>\n",
       "      <td>0.666667</td>\n",
       "    </tr>\n",
       "    <tr>\n",
       "      <th>HIIT</th>\n",
       "      <td>No</td>\n",
       "      <td>0.333333</td>\n",
       "    </tr>\n",
       "    <tr>\n",
       "      <th>Flexibility and Balance</th>\n",
       "      <td>Yes</td>\n",
       "      <td>0.222222</td>\n",
       "    </tr>\n",
       "    <tr>\n",
       "      <th>Flexibility and Balance</th>\n",
       "      <td>No</td>\n",
       "      <td>0.777778</td>\n",
       "    </tr>\n",
       "    <tr>\n",
       "      <th>Cardio, Strength, Flexibility and Balance</th>\n",
       "      <td>No</td>\n",
       "      <td>1.000000</td>\n",
       "    </tr>\n",
       "    <tr>\n",
       "      <th>Cardio, Flexibility and Balance</th>\n",
       "      <td>Yes</td>\n",
       "      <td>0.250000</td>\n",
       "    </tr>\n",
       "    <tr>\n",
       "      <th>Cardio, Flexibility and Balance</th>\n",
       "      <td>No</td>\n",
       "      <td>0.750000</td>\n",
       "    </tr>\n",
       "    <tr>\n",
       "      <th>Cardio</th>\n",
       "      <td>Yes</td>\n",
       "      <td>0.243590</td>\n",
       "    </tr>\n",
       "    <tr>\n",
       "      <th>Cardio</th>\n",
       "      <td>No</td>\n",
       "      <td>0.756410</td>\n",
       "    </tr>\n",
       "  </tbody>\n",
       "</table>\n",
       "</div>"
      ],
      "text/plain": [
       "                                          PCOS  Probability\n",
       "Exercise_Type                                              \n",
       "Strength, Flexibility and Balance           No     1.000000\n",
       "Strength                                   Yes     0.142857\n",
       "Strength                                    No     0.857143\n",
       "No Exercise                                Yes     0.193182\n",
       "No Exercise                                 No     0.806818\n",
       "HIIT                                       Yes     0.666667\n",
       "HIIT                                        No     0.333333\n",
       "Flexibility and Balance                    Yes     0.222222\n",
       "Flexibility and Balance                     No     0.777778\n",
       "Cardio, Strength, Flexibility and Balance   No     1.000000\n",
       "Cardio, Flexibility and Balance            Yes     0.250000\n",
       "Cardio, Flexibility and Balance             No     0.750000\n",
       "Cardio                                     Yes     0.243590\n",
       "Cardio                                      No     0.756410"
      ]
     },
     "execution_count": 34,
     "metadata": {},
     "output_type": "execute_result"
    }
   ],
   "source": [
    "trainData[[\"Exercise_Type\", \"PCOS\"]].groupby(\"Exercise_Type\").value_counts(dropna=True, normalize=True).reset_index(name=\"Probability\").sort_values(by=[\"Exercise_Type\", \"PCOS\"], ascending=False).set_index(\"Exercise_Type\")"
   ]
  },
  {
   "cell_type": "markdown",
   "metadata": {},
   "source": [
    "HIIT seems to indicate a higher chance of PCOS than other exercise types, as well as most exercise types with cardio."
   ]
  },
  {
   "cell_type": "code",
   "execution_count": 35,
   "metadata": {},
   "outputs": [
    {
     "data": {
      "text/html": [
       "<div>\n",
       "<style scoped>\n",
       "    .dataframe tbody tr th:only-of-type {\n",
       "        vertical-align: middle;\n",
       "    }\n",
       "\n",
       "    .dataframe tbody tr th {\n",
       "        vertical-align: top;\n",
       "    }\n",
       "\n",
       "    .dataframe thead th {\n",
       "        text-align: right;\n",
       "    }\n",
       "</style>\n",
       "<table border=\"1\" class=\"dataframe\">\n",
       "  <thead>\n",
       "    <tr style=\"text-align: right;\">\n",
       "      <th></th>\n",
       "      <th>PCOS</th>\n",
       "      <th>Probability</th>\n",
       "    </tr>\n",
       "    <tr>\n",
       "      <th>Exercise_Duration</th>\n",
       "      <th></th>\n",
       "      <th></th>\n",
       "    </tr>\n",
       "  </thead>\n",
       "  <tbody>\n",
       "    <tr>\n",
       "      <th>Not Applicable</th>\n",
       "      <td>Yes</td>\n",
       "      <td>0.216867</td>\n",
       "    </tr>\n",
       "    <tr>\n",
       "      <th>Not Applicable</th>\n",
       "      <td>No</td>\n",
       "      <td>0.783133</td>\n",
       "    </tr>\n",
       "    <tr>\n",
       "      <th>&gt;30 minutes</th>\n",
       "      <td>Yes</td>\n",
       "      <td>0.285714</td>\n",
       "    </tr>\n",
       "    <tr>\n",
       "      <th>&gt;30 minutes</th>\n",
       "      <td>No</td>\n",
       "      <td>0.714286</td>\n",
       "    </tr>\n",
       "    <tr>\n",
       "      <th>&lt;30 minutes</th>\n",
       "      <td>Yes</td>\n",
       "      <td>0.229508</td>\n",
       "    </tr>\n",
       "    <tr>\n",
       "      <th>&lt;30 minutes</th>\n",
       "      <td>No</td>\n",
       "      <td>0.770492</td>\n",
       "    </tr>\n",
       "    <tr>\n",
       "      <th>45 minutes</th>\n",
       "      <td>Yes</td>\n",
       "      <td>0.235294</td>\n",
       "    </tr>\n",
       "    <tr>\n",
       "      <th>45 minutes</th>\n",
       "      <td>No</td>\n",
       "      <td>0.764706</td>\n",
       "    </tr>\n",
       "    <tr>\n",
       "      <th>30 minutes to 1 hour</th>\n",
       "      <td>No</td>\n",
       "      <td>1.000000</td>\n",
       "    </tr>\n",
       "    <tr>\n",
       "      <th>30 minutes</th>\n",
       "      <td>Yes</td>\n",
       "      <td>0.187500</td>\n",
       "    </tr>\n",
       "    <tr>\n",
       "      <th>30 minutes</th>\n",
       "      <td>No</td>\n",
       "      <td>0.812500</td>\n",
       "    </tr>\n",
       "  </tbody>\n",
       "</table>\n",
       "</div>"
      ],
      "text/plain": [
       "                     PCOS  Probability\n",
       "Exercise_Duration                     \n",
       "Not Applicable        Yes     0.216867\n",
       "Not Applicable         No     0.783133\n",
       ">30 minutes           Yes     0.285714\n",
       ">30 minutes            No     0.714286\n",
       "<30 minutes           Yes     0.229508\n",
       "<30 minutes            No     0.770492\n",
       "45 minutes            Yes     0.235294\n",
       "45 minutes             No     0.764706\n",
       "30 minutes to 1 hour   No     1.000000\n",
       "30 minutes            Yes     0.187500\n",
       "30 minutes             No     0.812500"
      ]
     },
     "execution_count": 35,
     "metadata": {},
     "output_type": "execute_result"
    }
   ],
   "source": [
    "trainData[[\"Exercise_Duration\", \"PCOS\"]].groupby(\"Exercise_Duration\").value_counts(dropna=True, normalize=True).reset_index(name=\"Probability\").sort_values(by=[\"Exercise_Duration\", \"PCOS\"], ascending=False).set_index(\"Exercise_Duration\")"
   ]
  },
  {
   "cell_type": "markdown",
   "metadata": {},
   "source": [
    "Probability of PCOS doesn't seem to be too affected by exercise duration."
   ]
  },
  {
   "cell_type": "code",
   "execution_count": 36,
   "metadata": {},
   "outputs": [
    {
     "data": {
      "text/html": [
       "<div>\n",
       "<style scoped>\n",
       "    .dataframe tbody tr th:only-of-type {\n",
       "        vertical-align: middle;\n",
       "    }\n",
       "\n",
       "    .dataframe tbody tr th {\n",
       "        vertical-align: top;\n",
       "    }\n",
       "\n",
       "    .dataframe thead th {\n",
       "        text-align: right;\n",
       "    }\n",
       "</style>\n",
       "<table border=\"1\" class=\"dataframe\">\n",
       "  <thead>\n",
       "    <tr style=\"text-align: right;\">\n",
       "      <th></th>\n",
       "      <th>PCOS</th>\n",
       "      <th>Probability</th>\n",
       "    </tr>\n",
       "    <tr>\n",
       "      <th>Sleep_Hours</th>\n",
       "      <th></th>\n",
       "      <th></th>\n",
       "    </tr>\n",
       "  </thead>\n",
       "  <tbody>\n",
       "    <tr>\n",
       "      <th>&gt;12 hours</th>\n",
       "      <td>No</td>\n",
       "      <td>1.000000</td>\n",
       "    </tr>\n",
       "    <tr>\n",
       "      <th>&lt;6 hours</th>\n",
       "      <td>Yes</td>\n",
       "      <td>0.285714</td>\n",
       "    </tr>\n",
       "    <tr>\n",
       "      <th>&lt;6 hours</th>\n",
       "      <td>No</td>\n",
       "      <td>0.714286</td>\n",
       "    </tr>\n",
       "    <tr>\n",
       "      <th>9-12 hours</th>\n",
       "      <td>Yes</td>\n",
       "      <td>0.250000</td>\n",
       "    </tr>\n",
       "    <tr>\n",
       "      <th>9-12 hours</th>\n",
       "      <td>No</td>\n",
       "      <td>0.750000</td>\n",
       "    </tr>\n",
       "    <tr>\n",
       "      <th>6-8 hours</th>\n",
       "      <td>Yes</td>\n",
       "      <td>0.190840</td>\n",
       "    </tr>\n",
       "    <tr>\n",
       "      <th>6-8 hours</th>\n",
       "      <td>No</td>\n",
       "      <td>0.809160</td>\n",
       "    </tr>\n",
       "    <tr>\n",
       "      <th>3-4 hours</th>\n",
       "      <td>No</td>\n",
       "      <td>1.000000</td>\n",
       "    </tr>\n",
       "  </tbody>\n",
       "</table>\n",
       "</div>"
      ],
      "text/plain": [
       "            PCOS  Probability\n",
       "Sleep_Hours                  \n",
       ">12 hours     No     1.000000\n",
       "<6 hours     Yes     0.285714\n",
       "<6 hours      No     0.714286\n",
       "9-12 hours   Yes     0.250000\n",
       "9-12 hours    No     0.750000\n",
       "6-8 hours    Yes     0.190840\n",
       "6-8 hours     No     0.809160\n",
       "3-4 hours     No     1.000000"
      ]
     },
     "execution_count": 36,
     "metadata": {},
     "output_type": "execute_result"
    }
   ],
   "source": [
    "trainData[[\"Sleep_Hours\", \"PCOS\"]].groupby(\"Sleep_Hours\").value_counts(dropna=True, normalize=True).reset_index(name=\"Probability\").sort_values(by=[\"Sleep_Hours\", \"PCOS\"], ascending=False).set_index(\"Sleep_Hours\")"
   ]
  },
  {
   "cell_type": "markdown",
   "metadata": {},
   "source": [
    "6-8 hours of sleep seems to have a lower chance of PCOS."
   ]
  },
  {
   "cell_type": "code",
   "execution_count": 37,
   "metadata": {},
   "outputs": [
    {
     "data": {
      "text/html": [
       "<div>\n",
       "<style scoped>\n",
       "    .dataframe tbody tr th:only-of-type {\n",
       "        vertical-align: middle;\n",
       "    }\n",
       "\n",
       "    .dataframe tbody tr th {\n",
       "        vertical-align: top;\n",
       "    }\n",
       "\n",
       "    .dataframe thead th {\n",
       "        text-align: right;\n",
       "    }\n",
       "</style>\n",
       "<table border=\"1\" class=\"dataframe\">\n",
       "  <thead>\n",
       "    <tr style=\"text-align: right;\">\n",
       "      <th></th>\n",
       "      <th>PCOS</th>\n",
       "      <th>Probability</th>\n",
       "    </tr>\n",
       "    <tr>\n",
       "      <th>Exercise_Benefit</th>\n",
       "      <th></th>\n",
       "      <th></th>\n",
       "    </tr>\n",
       "  </thead>\n",
       "  <tbody>\n",
       "    <tr>\n",
       "      <th>Yes Significantly</th>\n",
       "      <td>Yes</td>\n",
       "      <td>0.208333</td>\n",
       "    </tr>\n",
       "    <tr>\n",
       "      <th>Yes Significantly</th>\n",
       "      <td>No</td>\n",
       "      <td>0.791667</td>\n",
       "    </tr>\n",
       "    <tr>\n",
       "      <th>Somewhat</th>\n",
       "      <td>Yes</td>\n",
       "      <td>0.195489</td>\n",
       "    </tr>\n",
       "    <tr>\n",
       "      <th>Somewhat</th>\n",
       "      <td>No</td>\n",
       "      <td>0.804511</td>\n",
       "    </tr>\n",
       "    <tr>\n",
       "      <th>Not at All</th>\n",
       "      <td>Yes</td>\n",
       "      <td>0.192308</td>\n",
       "    </tr>\n",
       "    <tr>\n",
       "      <th>Not at All</th>\n",
       "      <td>No</td>\n",
       "      <td>0.807692</td>\n",
       "    </tr>\n",
       "    <tr>\n",
       "      <th>Not Much</th>\n",
       "      <td>Yes</td>\n",
       "      <td>0.421053</td>\n",
       "    </tr>\n",
       "    <tr>\n",
       "      <th>Not Much</th>\n",
       "      <td>No</td>\n",
       "      <td>0.578947</td>\n",
       "    </tr>\n",
       "  </tbody>\n",
       "</table>\n",
       "</div>"
      ],
      "text/plain": [
       "                  PCOS  Probability\n",
       "Exercise_Benefit                   \n",
       "Yes Significantly  Yes     0.208333\n",
       "Yes Significantly   No     0.791667\n",
       "Somewhat           Yes     0.195489\n",
       "Somewhat            No     0.804511\n",
       "Not at All         Yes     0.192308\n",
       "Not at All          No     0.807692\n",
       "Not Much           Yes     0.421053\n",
       "Not Much            No     0.578947"
      ]
     },
     "execution_count": 37,
     "metadata": {},
     "output_type": "execute_result"
    }
   ],
   "source": [
    "trainData[[\"Exercise_Benefit\", \"PCOS\"]].groupby(\"Exercise_Benefit\").value_counts(dropna=True, normalize=True).reset_index(name=\"Probability\").sort_values(by=[\"Exercise_Benefit\", \"PCOS\"], ascending=False).set_index(\"Exercise_Benefit\")"
   ]
  },
  {
   "cell_type": "markdown",
   "metadata": {},
   "source": [
    "Not much exercise benefit seems to have a very high chance of PCOS."
   ]
  },
  {
   "cell_type": "markdown",
   "metadata": {},
   "source": [
    "**Looks like most data can be excluded, I will only keep hormonal imbalance, hyperandrogenism, hirsutism, conception difficulty and insulin resistance.**"
   ]
  },
  {
   "cell_type": "markdown",
   "metadata": {},
   "source": [
    "# **Creating Test Train Split**"
   ]
  },
  {
   "cell_type": "code",
   "execution_count": 38,
   "metadata": {},
   "outputs": [
    {
     "data": {
      "text/html": [
       "<div>\n",
       "<style scoped>\n",
       "    .dataframe tbody tr th:only-of-type {\n",
       "        vertical-align: middle;\n",
       "    }\n",
       "\n",
       "    .dataframe tbody tr th {\n",
       "        vertical-align: top;\n",
       "    }\n",
       "\n",
       "    .dataframe thead th {\n",
       "        text-align: right;\n",
       "    }\n",
       "</style>\n",
       "<table border=\"1\" class=\"dataframe\">\n",
       "  <thead>\n",
       "    <tr style=\"text-align: right;\">\n",
       "      <th></th>\n",
       "      <th>Hormonal_Imbalance</th>\n",
       "      <th>Hyperandrogenism</th>\n",
       "      <th>Hirsutism</th>\n",
       "      <th>Conception_Difficulty</th>\n",
       "      <th>Insulin_Resistance</th>\n",
       "    </tr>\n",
       "  </thead>\n",
       "  <tbody>\n",
       "    <tr>\n",
       "      <th>0</th>\n",
       "      <td>No</td>\n",
       "      <td>No</td>\n",
       "      <td>No</td>\n",
       "      <td>No</td>\n",
       "      <td>No</td>\n",
       "    </tr>\n",
       "    <tr>\n",
       "      <th>1</th>\n",
       "      <td>No</td>\n",
       "      <td>No</td>\n",
       "      <td>No</td>\n",
       "      <td>No</td>\n",
       "      <td>No</td>\n",
       "    </tr>\n",
       "    <tr>\n",
       "      <th>2</th>\n",
       "      <td>No</td>\n",
       "      <td>No</td>\n",
       "      <td>Yes</td>\n",
       "      <td>No</td>\n",
       "      <td>No</td>\n",
       "    </tr>\n",
       "    <tr>\n",
       "      <th>3</th>\n",
       "      <td>No</td>\n",
       "      <td>No</td>\n",
       "      <td>No</td>\n",
       "      <td>No</td>\n",
       "      <td>No</td>\n",
       "    </tr>\n",
       "    <tr>\n",
       "      <th>4</th>\n",
       "      <td>Yes</td>\n",
       "      <td>No</td>\n",
       "      <td>No</td>\n",
       "      <td>No</td>\n",
       "      <td>No</td>\n",
       "    </tr>\n",
       "  </tbody>\n",
       "</table>\n",
       "</div>"
      ],
      "text/plain": [
       "  Hormonal_Imbalance Hyperandrogenism Hirsutism Conception_Difficulty  \\\n",
       "0                 No               No        No                    No   \n",
       "1                 No               No        No                    No   \n",
       "2                 No               No       Yes                    No   \n",
       "3                 No               No        No                    No   \n",
       "4                Yes               No        No                    No   \n",
       "\n",
       "  Insulin_Resistance  \n",
       "0                 No  \n",
       "1                 No  \n",
       "2                 No  \n",
       "3                 No  \n",
       "4                 No  "
      ]
     },
     "execution_count": 38,
     "metadata": {},
     "output_type": "execute_result"
    }
   ],
   "source": [
    "from sklearn.model_selection import train_test_split\n",
    "\n",
    "y = trainData[\"PCOS\"]\n",
    "\n",
    "featuresToDrop = [\"Age\", \"Weight_kg\", \"ID\", \"PCOS\", \"Exercise_Frequency\", \"Exercise_Type\", \"Exercise_Duration\", \"Sleep_Hours\", \"Exercise_Benefit\"]\n",
    "X = trainData.drop(featuresToDrop, axis=1)\n",
    "\n",
    "X_train, X_valid, y_train, y_valid = train_test_split(X, y, random_state=1)\n",
    "\n",
    "X.head()"
   ]
  },
  {
   "cell_type": "markdown",
   "metadata": {},
   "source": [
    "# **Creating Model**"
   ]
  },
  {
   "cell_type": "code",
   "execution_count": 39,
   "metadata": {},
   "outputs": [
    {
     "name": "stdout",
     "output_type": "stream",
     "text": [
      "Area Under ROC Score: 0.8352272727272727\n"
     ]
    }
   ],
   "source": [
    "from xgboost import XGBRegressor\n",
    "from sklearn.metrics import roc_auc_score\n",
    "from sklearn.compose import ColumnTransformer\n",
    "from sklearn.pipeline import Pipeline\n",
    "from sklearn.impute import SimpleImputer\n",
    "from sklearn.preprocessing import LabelEncoder, OrdinalEncoder\n",
    "\n",
    "ordFeatures = [\"Hormonal_Imbalance\", \"Hyperandrogenism\", \"Hirsutism\", \"Conception_Difficulty\", \"Insulin_Resistance\"]\n",
    "\n",
    "categorical_transformer = Pipeline(steps=[\n",
    "    (\"imputer\", SimpleImputer(strategy=\"most_frequent\")),\n",
    "    (\"encoder\", OrdinalEncoder(handle_unknown=\"use_encoded_value\", unknown_value=-1))\n",
    "])\n",
    "\n",
    "preprocessor = ColumnTransformer(\n",
    "    transformers=[\n",
    "        (\"cat\", categorical_transformer, ordFeatures)\n",
    "    ])\n",
    "\n",
    "model = XGBRegressor(n_estimators=500, learning_rate=0.5, early_stopping_rounds=10, n_jobs=-1, random_state=1, eval_metric=\"auc\")\n",
    "\n",
    "pipeline = Pipeline(steps=[\n",
    "    (\"preprocessor\", preprocessor),\n",
    "    (\"model\", model)\n",
    "])\n",
    "\n",
    "le = LabelEncoder()\n",
    "y_train_preproc = le.fit_transform(y_train)\n",
    "y_valid_preproc = le.transform(y_valid)\n",
    "\n",
    "X_train_preproc = preprocessor.fit_transform(X_train)\n",
    "X_valid_preproc = preprocessor.transform(X_valid)\n",
    "\n",
    "# Cross validation?\n",
    "pipeline.fit(X_train, y_train_preproc, model__eval_set=[[X_train_preproc, y_train_preproc], [X_valid_preproc, y_valid_preproc]], model__verbose=False)\n",
    "\n",
    "predictions = pipeline.predict(X_valid)\n",
    "\n",
    "score = roc_auc_score(y_valid, predictions)\n",
    "print(\"Area Under ROC Score:\", score) # Best Area Under ROC Score: 0.8352272727272727"
   ]
  },
  {
   "cell_type": "code",
   "execution_count": 40,
   "metadata": {},
   "outputs": [
    {
     "data": {
      "image/png": "[encoded data removed]",
      "text/plain": [
       "<Figure size 1000x500 with 1 Axes>"
      ]
     },
     "metadata": {},
     "output_type": "display_data"
    }
   ],
   "source": [
    "import numpy as np\n",
    "\n",
    "feature_importance = pipeline.named_steps[\"model\"].feature_importances_\n",
    "\n",
    "feature_names = ordFeatures\n",
    "\n",
    "sorted_idx = np.argsort(feature_importance)\n",
    "\n",
    "plt.figure(figsize=(10, 5))\n",
    "plt.barh(np.array(feature_names)[sorted_idx], feature_importance[sorted_idx])\n",
    "plt.xlabel(\"Feature Importance Score\")\n",
    "plt.ylabel(\"Features\")\n",
    "plt.title(\"Feature Importance Analysis\")\n",
    "plt.show()"
   ]
  },
  {
   "cell_type": "markdown",
   "metadata": {},
   "source": [
    "# **Create Prediction**"
   ]
  },
  {
   "cell_type": "markdown",
   "metadata": {},
   "source": [
    "## **Clean X_test Data**"
   ]
  },
  {
   "cell_type": "code",
   "execution_count": 41,
   "metadata": {},
   "outputs": [],
   "source": [
    "testFilepath = \"Data/test.csv\"\n",
    "testData = pd.read_csv(testFilepath)"
   ]
  },
  {
   "cell_type": "code",
   "execution_count": 42,
   "metadata": {},
   "outputs": [
    {
     "data": {
      "text/plain": [
       "Hormonal_Imbalance\n",
       "Yes    79\n",
       "No     63\n",
       "Name: count, dtype: int64"
      ]
     },
     "execution_count": 42,
     "metadata": {},
     "output_type": "execute_result"
    }
   ],
   "source": [
    "testData.Hormonal_Imbalance.value_counts()"
   ]
  },
  {
   "cell_type": "code",
   "execution_count": 43,
   "metadata": {},
   "outputs": [
    {
     "data": {
      "text/plain": [
       "Hyperandrogenism\n",
       "No     128\n",
       "Yes     16\n",
       "Name: count, dtype: int64"
      ]
     },
     "execution_count": 43,
     "metadata": {},
     "output_type": "execute_result"
    }
   ],
   "source": [
    "testData.Hyperandrogenism.value_counts()"
   ]
  },
  {
   "cell_type": "code",
   "execution_count": 44,
   "metadata": {},
   "outputs": [
    {
     "data": {
      "text/plain": [
       "Hirsutism\n",
       "No     113\n",
       "Yes     30\n",
       "Name: count, dtype: int64"
      ]
     },
     "execution_count": 44,
     "metadata": {},
     "output_type": "execute_result"
    }
   ],
   "source": [
    "testData.Hirsutism.value_counts()"
   ]
  },
  {
   "cell_type": "code",
   "execution_count": 45,
   "metadata": {},
   "outputs": [
    {
     "data": {
      "text/plain": [
       "Conception_Difficulty\n",
       "No          137\n",
       "Yes           5\n",
       "Somewhat      1\n",
       "Name: count, dtype: int64"
      ]
     },
     "execution_count": 45,
     "metadata": {},
     "output_type": "execute_result"
    }
   ],
   "source": [
    "testData.Conception_Difficulty.value_counts()"
   ]
  },
  {
   "cell_type": "code",
   "execution_count": 46,
   "metadata": {},
   "outputs": [
    {
     "data": {
      "text/plain": [
       "Conception_Difficulty\n",
       "No     137\n",
       "Yes      6\n",
       "Name: count, dtype: int64"
      ]
     },
     "execution_count": 46,
     "metadata": {},
     "output_type": "execute_result"
    }
   ],
   "source": [
    "testData[\"Conception_Difficulty\"] = testData[\"Conception_Difficulty\"].replace({\"Somewhat\": \"Yes\"})\n",
    "\n",
    "testData.Conception_Difficulty.value_counts()"
   ]
  },
  {
   "cell_type": "code",
   "execution_count": 47,
   "metadata": {},
   "outputs": [
    {
     "data": {
      "text/plain": [
       "Insulin_Resistance\n",
       "No                   126\n",
       "Yes                   16\n",
       "Yes Significantly      2\n",
       "Name: count, dtype: int64"
      ]
     },
     "execution_count": 47,
     "metadata": {},
     "output_type": "execute_result"
    }
   ],
   "source": [
    "testData.Insulin_Resistance.value_counts()"
   ]
  },
  {
   "cell_type": "code",
   "execution_count": 48,
   "metadata": {},
   "outputs": [
    {
     "data": {
      "text/plain": [
       "Insulin_Resistance\n",
       "No     126\n",
       "Yes     18\n",
       "Name: count, dtype: int64"
      ]
     },
     "execution_count": 48,
     "metadata": {},
     "output_type": "execute_result"
    }
   ],
   "source": [
    "testData[\"Insulin_Resistance\"] = testData[\"Insulin_Resistance\"].replace({\"Yes Significantly\": \"Yes\"})\n",
    "\n",
    "testData.Insulin_Resistance.value_counts()"
   ]
  },
  {
   "cell_type": "markdown",
   "metadata": {},
   "source": [
    "## **Predict on Data**"
   ]
  },
  {
   "cell_type": "code",
   "execution_count": 50,
   "metadata": {},
   "outputs": [
    {
     "name": "stdout",
     "output_type": "stream",
     "text": [
      "Output saved\n",
      "\n",
      "<class 'pandas.core.frame.DataFrame'>\n",
      "RangeIndex: 145 entries, 0 to 144\n",
      "Data columns (total 2 columns):\n",
      " #   Column  Non-Null Count  Dtype  \n",
      "---  ------  --------------  -----  \n",
      " 0   ID      145 non-null    int64  \n",
      " 1   PCOS    145 non-null    float32\n",
      "dtypes: float32(1), int64(1)\n",
      "memory usage: 1.8 KB\n",
      "None \n",
      "\n",
      "count    145.000000\n",
      "mean       0.189934\n",
      "std        0.250444\n",
      "min        0.003694\n",
      "25%        0.003694\n",
      "50%        0.167549\n",
      "75%        0.167549\n",
      "max        0.949917\n",
      "Name: PCOS, dtype: float64\n"
     ]
    },
    {
     "data": {
      "image/png": "[encoded data removed]",
      "text/plain": [
       "<Figure size 1000x300 with 1 Axes>"
      ]
     },
     "metadata": {},
     "output_type": "display_data"
    }
   ],
   "source": [
    "X_test = testData.drop(featuresToDrop, axis=1, errors=\"ignore\")\n",
    "\n",
    "testPredictions = pipeline.predict(X_test)\n",
    "\n",
    "output = pd.DataFrame({\"ID\": testData.ID, \"PCOS\": testPredictions})\n",
    "output.to_csv(\"Data/submission.csv\", index=False)\n",
    "\n",
    "print(\"Output saved\\n\")\n",
    "\n",
    "print(output.info(),\"\\n\")\n",
    "print(output.PCOS.describe())\n",
    "\n",
    "plt.figure(figsize=(10, 3))\n",
    "plt.title(\"Prediction Distribution\")\n",
    "sns.kdeplot(output[\"PCOS\"], clip=(0, 1))\n",
    "plt.show()"
   ]
  }
 ],
 "metadata": {
  "kernelspec": {
   "display_name": "Python 3",
   "language": "python",
   "name": "python3"
  },
  "language_info": {
   "codemirror_mode": {
    "name": "ipython",
    "version": 3
   },
   "file_extension": ".py",
   "mimetype": "text/x-python",
   "name": "python",
   "nbconvert_exporter": "python",
   "pygments_lexer": "ipython3",
   "version": "3.12.5"
  }
 },
 "nbformat": 4,
 "nbformat_minor": 2
}
